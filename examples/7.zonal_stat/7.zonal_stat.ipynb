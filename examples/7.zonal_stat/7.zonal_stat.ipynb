{
 "cells": [
  {
   "cell_type": "markdown",
   "metadata": {},
   "source": [
    "[![image](https://colab.research.google.com/assets/colab-badge.svg)]()"
   ]
  },
  {
   "cell_type": "code",
   "execution_count": 1,
   "metadata": {},
   "outputs": [],
   "source": [
    "import watergeo\n",
    "import watergeo.common\n",
    "import ee"
   ]
  },
  {
   "cell_type": "code",
   "execution_count": 2,
   "metadata": {},
   "outputs": [],
   "source": [
    "ee.Initialize()\n",
    "\n",
    "appacounties = ee.FeatureCollection('projects/ee-ut-andyzhang/assets/appawateruse')"
   ]
  },
  {
   "cell_type": "code",
   "execution_count": 3,
   "metadata": {},
   "outputs": [],
   "source": [
    "surface_water = watergeo.ee.Image(\"JRC/GSW1_2/GlobalSurfaceWater\")\n",
    "clipped_surface_water = surface_water.clipToCollection(appacounties)\n",
    "threshold_20 = 20\n",
    "reliable_water_20 = clipped_surface_water.gte(threshold_20).selfMask()\n"
   ]
  },
  {
   "cell_type": "code",
   "execution_count": 4,
   "metadata": {},
   "outputs": [
    {
     "name": "stdout",
     "output_type": "stream",
     "text": [
      "Computing statistics ...\n"
     ]
    }
   ],
   "source": [
    "output = watergeo.common.zonal_stats(reliable_water_20, appacounties, stat_type='MEAN', scale=30, return_fc=True)\n",
    "output_file = 'water_surface_GT_80.csv'\n",
    "\n",
    "# watergeo.ee_export_vector(output, filename=output_file)"
   ]
  }
 ],
 "metadata": {
  "kernelspec": {
   "display_name": "geo",
   "language": "python",
   "name": "python3"
  },
  "language_info": {
   "codemirror_mode": {
    "name": "ipython",
    "version": 3
   },
   "file_extension": ".py",
   "mimetype": "text/x-python",
   "name": "python",
   "nbconvert_exporter": "python",
   "pygments_lexer": "ipython3",
   "version": "3.11.7"
  }
 },
 "nbformat": 4,
 "nbformat_minor": 2
}
