{
 "cells": [
  {
   "cell_type": "markdown",
   "metadata": {},
   "source": [
    "[![image](https://colab.research.google.com/assets/colab-badge.svg)](https://colab.research.google.com/github/Andyzxm/watergeo/blob/main/docs/examples/raster.ipynb)"
   ]
  },
  {
   "cell_type": "markdown",
   "metadata": {},
   "source": [
    "## Add Raster and image to the Map\n",
    "- In this example we will apply add_raster and add_image functions to demostrate the extensive utilities of this pacakge\n",
    "- Add raster using local dataset \n",
    "- Add raster using URL "
   ]
  },
  {
   "cell_type": "code",
   "execution_count": 1,
   "metadata": {},
   "outputs": [],
   "source": [
    "import watergeo "
   ]
  },
  {
   "cell_type": "code",
   "execution_count": 8,
   "metadata": {},
   "outputs": [
    {
     "data": {
      "application/vnd.jupyter.widget-view+json": {
       "model_id": "6533cbf36ccd423dab4b681d6abf9595",
       "version_major": 2,
       "version_minor": 0
      },
      "text/plain": [
       "Map(center=[37.6378483440524, -119.03710577160396], controls=(ZoomControl(options=['position', 'zoom_in_text',…"
      ]
     },
     "metadata": {},
     "output_type": "display_data"
    }
   ],
   "source": [
    "m= watergeo.Map()\n",
    "m.add_raster('datasets/landsat.tif')\n",
    "m.add_zoom_slider()\n",
    "m"
   ]
  },
  {
   "cell_type": "code",
   "execution_count": 10,
   "metadata": {},
   "outputs": [
    {
     "data": {
      "application/vnd.jupyter.widget-view+json": {
       "model_id": "8b1fdf3ad3e14474a3c775f5616f151c",
       "version_major": 2,
       "version_minor": 0
      },
      "text/plain": [
       "Map(center=[44.39836834327815, -122.75140966160018], controls=(ZoomControl(options=['position', 'zoom_in_text'…"
      ]
     },
     "metadata": {},
     "output_type": "display_data"
    }
   ],
   "source": [
    "m2=watergeo.Map()\n",
    "m2.add_raster('https://github.com/opengeos/datasets/releases/download/raster/dem.tif')\n",
    "m2\n"
   ]
  },
  {
   "cell_type": "markdown",
   "metadata": {},
   "source": [
    "- Add image using the URL \n",
    "- Note that the bounds decide where your image will show up on the map"
   ]
  },
  {
   "cell_type": "code",
   "execution_count": 16,
   "metadata": {},
   "outputs": [
    {
     "data": {
      "application/vnd.jupyter.widget-view+json": {
       "model_id": "7d90c259ed3e4c72b820cd634fca8e93",
       "version_major": 2,
       "version_minor": 0
      },
      "text/plain": [
       "Map(center=[20, 0], controls=(ZoomControl(options=['position', 'zoom_in_text', 'zoom_in_title', 'zoom_out_text…"
      ]
     },
     "metadata": {},
     "output_type": "display_data"
    }
   ],
   "source": [
    "m3 = watergeo.Map()\n",
    "\n",
    "url = \"https://www.uri.edu/news/wp-content/uploads/news/sites/16/2024/04/eclipse-sized.png\"\n",
    "# url='../06Q1fSz.png',\n",
    "bounds = ((15, 100), (45, 150))\n",
    "m3.add_image(url, bounds)\n",
    "m3"
   ]
  }
 ],
 "metadata": {
  "kernelspec": {
   "display_name": "geo",
   "language": "python",
   "name": "python3"
  },
  "language_info": {
   "codemirror_mode": {
    "name": "ipython",
    "version": 3
   },
   "file_extension": ".py",
   "mimetype": "text/x-python",
   "name": "python",
   "nbconvert_exporter": "python",
   "pygments_lexer": "ipython3",
   "version": "3.11.7"
  }
 },
 "nbformat": 4,
 "nbformat_minor": 2
}
