{
 "cells": [
  {
   "cell_type": "code",
   "execution_count": 1,
   "metadata": {},
   "outputs": [],
   "source": [
    "import watergeo"
   ]
  },
  {
   "cell_type": "code",
   "execution_count": 2,
   "metadata": {},
   "outputs": [],
   "source": [
    "watergeo.ee.Authenticate() \n",
    "watergeo.ee.Initialize()"
   ]
  },
  {
   "cell_type": "code",
   "execution_count": 3,
   "metadata": {},
   "outputs": [],
   "source": [
    "Map = watergeo.Map()\n",
    "\n",
    "# Define the study area (entire US)\n",
    "study_area = watergeo.ee.Geometry.Rectangle([-125, 25, -65, 50])\n",
    "\n",
    "# Load surface water data (e.g., JRC Global Surface Water dataset)\n",
    "surface_water = watergeo.ee.Image(\"JRC/GSW1_2/GlobalSurfaceWater\")\n"
   ]
  },
  {
   "cell_type": "code",
   "execution_count": 4,
   "metadata": {},
   "outputs": [],
   "source": [
    "appacounties = watergeo.ee.FeatureCollection('projects/ee-ut-andyzhang/assets/appawateruse')"
   ]
  },
  {
   "cell_type": "code",
   "execution_count": 5,
   "metadata": {},
   "outputs": [],
   "source": [
    "# Clip the surface water data to the Appalachia counties\n",
    "clipped_surface_water = surface_water.clipToCollection(appacounties)\n",
    "\n",
    "# Create a visualization parameter for the clipped surface water\n",
    "clipped_vis_params = {\n",
    "    'bands': ['occurrence'],\n",
    "    'palette': ['white', 'blue']\n",
    "}\n",
    "\n",
    "# Style the Appalachia counties with a border\n",
    "styled_appacounties = appacounties.style(\n",
    "    color='red',  # Border color\n",
    "    fillColor='00000000',  # Transparent fill color\n",
    "    width=1  # Border width\n",
    ")\n",
    "\n",
    "# Add the styled Appalachia counties to the map\n",
    "Map.add_ee_layer(styled_appacounties, {}, 'Appalachia Counties')\n",
    "\n"
   ]
  },
  {
   "cell_type": "code",
   "execution_count": 6,
   "metadata": {},
   "outputs": [
    {
     "data": {
      "application/vnd.jupyter.widget-view+json": {
       "model_id": "005fc177663b47ec95c09933c5c5cc5a",
       "version_major": 2,
       "version_minor": 0
      },
      "text/plain": [
       "Map(center=[0.0, 0.0], controls=(ZoomControl(options=['position', 'zoom_in_text', 'zoom_in_title', 'zoom_out_t…"
      ]
     },
     "metadata": {},
     "output_type": "display_data"
    }
   ],
   "source": [
    "# Set thresholds for 'occurrence'\n",
    "threshold_80 = 80\n",
    "threshold_20 = 20\n",
    "\n",
    "vis_params_80 = {\n",
    "    'bands': ['occurrence'],\n",
    "    'palette': ['white', 'blue']\n",
    "}\n",
    "vis_params_20 = {\n",
    "    'bands': ['occurrence'],\n",
    "    'palette': ['white', 'blue']\n",
    "}\n",
    "\n",
    "# Consider only those pixels as reliable water sources which have an 'occurrence' greater than the thresholds\n",
    "reliable_water_80 = clipped_surface_water.gte(threshold_80).selfMask()\n",
    "reliable_water_20 = clipped_surface_water.gte(threshold_20).selfMask()\n",
    "\n",
    "# Add the reliable water sources to the map as split layers\n",
    "Map.add_split_map(reliable_water_80, reliable_water_20, vis_params_80, vis_params_20)\n",
    "Map"
   ]
  }
 ],
 "metadata": {
  "kernelspec": {
   "display_name": "geo",
   "language": "python",
   "name": "python3"
  },
  "language_info": {
   "codemirror_mode": {
    "name": "ipython",
    "version": 3
   },
   "file_extension": ".py",
   "mimetype": "text/x-python",
   "name": "python",
   "nbconvert_exporter": "python",
   "pygments_lexer": "ipython3",
   "version": "3.11.7"
  }
 },
 "nbformat": 4,
 "nbformat_minor": 2
}
