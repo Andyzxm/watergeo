{
 "cells": [
  {
   "cell_type": "markdown",
   "metadata": {},
   "source": [
    "[![image](https://colab.research.google.com/assets/colab-badge.svg)](https://colab.research.google.com/github/Andyzxm/watergeo/blob/main/docs/examples/physical_water_surface.ipynb)"
   ]
  },
  {
   "cell_type": "markdown",
   "metadata": {},
   "source": [
    "Things to know before you start: \n",
    "##\n",
    "You will need to authenticate your own google earth engine token before start\n",
    "##\n",
    "This added ee function within Map function will utilize the google earth engine to visulize dataset "
   ]
  },
  {
   "cell_type": "code",
   "execution_count": 1,
   "metadata": {},
   "outputs": [],
   "source": [
    "import watergeo\n",
    "import ee"
   ]
  },
  {
   "cell_type": "code",
   "execution_count": 2,
   "metadata": {},
   "outputs": [],
   "source": [
    "ee.Authenticate() \n",
    "ee.Initialize()"
   ]
  },
  {
   "cell_type": "code",
   "execution_count": 3,
   "metadata": {},
   "outputs": [
    {
     "data": {
      "application/vnd.jupyter.widget-view+json": {
       "model_id": "1816198820054e2d8c79323b633a361b",
       "version_major": 2,
       "version_minor": 0
      },
      "text/plain": [
       "Map(center=[20, 0], controls=(ZoomControl(options=['position', 'zoom_in_text', 'zoom_in_title', 'zoom_out_text…"
      ]
     },
     "metadata": {},
     "output_type": "display_data"
    }
   ],
   "source": [
    "\n",
    "# Initialize ee\n",
    "Map = watergeo.Map()\n",
    "\n",
    "# Define the study area (entire US)\n",
    "study_area = ee.Geometry.Rectangle([-125, 25, -65, 50])\n",
    "\n",
    "# Load surface water data (e.g., JRC Global Surface Water dataset)\n",
    "surface_water = ee.Image(\"JRC/GSW1_2/GlobalSurfaceWater\")\n",
    "\n",
    "# Create a visualization parameter for surface water (blue color)\n",
    "vis_params = {\n",
    "    'bands': ['occurrence'],\n",
    "    'palette': ['white', 'blue']\n",
    "}\n",
    "\n",
    "# Add surface water data to the map\n",
    "Map.add_ee_layer(surface_water, vis_params, 'Surface Water')\n",
    "\n",
    "# Display the map\n",
    "Map\n"
   ]
  }
 ],
 "metadata": {
  "kernelspec": {
   "display_name": "geo",
   "language": "python",
   "name": "python3"
  },
  "language_info": {
   "codemirror_mode": {
    "name": "ipython",
    "version": 3
   },
   "file_extension": ".py",
   "mimetype": "text/x-python",
   "name": "python",
   "nbconvert_exporter": "python",
   "pygments_lexer": "ipython3",
   "version": "3.11.7"
  }
 },
 "nbformat": 4,
 "nbformat_minor": 2
}
