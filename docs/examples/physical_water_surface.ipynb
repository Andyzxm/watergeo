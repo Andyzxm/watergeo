{
 "cells": [
  {
   "cell_type": "markdown",
   "metadata": {},
   "source": [
    "[![image](https://colab.research.google.com/assets/colab-badge.svg)](https://colab.research.google.com/github/Andyzxm/watergeo/blob/main/docs/examples/physical_water_surface.ipynb)"
   ]
  },
  {
   "cell_type": "markdown",
   "metadata": {},
   "source": [
    "Things to know before you start: \n",
    "-You will need to authenticate your own google earth engine token before start\n",
    "-This added ee function within Map function will utilize the google earth engine to visulize dataset "
   ]
  },
  {
   "cell_type": "code",
   "execution_count": 6,
   "metadata": {},
   "outputs": [
    {
     "data": {
      "text/html": [
       "<p>To authorize access needed by Earth Engine, open the following\n",
       "        URL in a web browser and follow the instructions:</p>\n",
       "        <p><a href=https://code.earthengine.google.com/client-auth?scopes=https%3A//www.googleapis.com/auth/earthengine%20https%3A//www.googleapis.com/auth/cloud-platform%20https%3A//www.googleapis.com/auth/devstorage.full_control&request_id=joG5hzTeu9r1mLlUmxHXRZL7Zp8N5YWZxhrix2z7s1U&tc=Sszc-JUAvH6SYUFuCPptUGV3zs0X4I8cpB1rRminyoc&cc=ERdbBPGSzx3LC37oVSm4fHveuxJm6z27sqn9AgNRGAU>https://code.earthengine.google.com/client-auth?scopes=https%3A//www.googleapis.com/auth/earthengine%20https%3A//www.googleapis.com/auth/cloud-platform%20https%3A//www.googleapis.com/auth/devstorage.full_control&request_id=joG5hzTeu9r1mLlUmxHXRZL7Zp8N5YWZxhrix2z7s1U&tc=Sszc-JUAvH6SYUFuCPptUGV3zs0X4I8cpB1rRminyoc&cc=ERdbBPGSzx3LC37oVSm4fHveuxJm6z27sqn9AgNRGAU</a></p>\n",
       "        <p>The authorization workflow will generate a code, which you should paste in the box below.</p>\n",
       "        "
      ],
      "text/plain": [
       "<IPython.core.display.HTML object>"
      ]
     },
     "metadata": {},
     "output_type": "display_data"
    },
    {
     "name": "stdout",
     "output_type": "stream",
     "text": [
      "\n",
      "Successfully saved authorization token.\n"
     ]
    }
   ],
   "source": [
    "#ee.Authenticate() \n",
    "#ee.Initialize()"
   ]
  },
  {
   "cell_type": "code",
   "execution_count": 1,
   "metadata": {},
   "outputs": [],
   "source": [
    "import watergeo\n",
    "import ee"
   ]
  },
  {
   "cell_type": "code",
   "execution_count": 3,
   "metadata": {},
   "outputs": [
    {
     "data": {
      "application/vnd.jupyter.widget-view+json": {
       "model_id": "13243ba5df2d468baebe7fd2bf19ba81",
       "version_major": 2,
       "version_minor": 0
      },
      "text/plain": [
       "Map(center=[37.7749, -122.4194], controls=(ZoomControl(options=['position', 'zoom_in_text', 'zoom_in_title', '…"
      ]
     },
     "metadata": {},
     "output_type": "display_data"
    }
   ],
   "source": [
    "\n",
    "# Initialize ee\n",
    "ee.Initialize()\n",
    "\n",
    "# Create an instance of your Map class\n",
    "map = watergeo.Map()\n",
    "\n",
    "# Define the study area and load the Earth Engine data\n",
    "study_area = ee.Geometry.Rectangle([-125, 25, -65, 50])\n",
    "surface_water = ee.Image(\"JRC/GSW1_2/GlobalSurfaceWater\")\n",
    "\n",
    "# Create visualization parameters\n",
    "vis_params = {\n",
    "    'bands': ['occurrence'],\n",
    "    'palette': ['white', 'blue']\n",
    "}\n",
    "\n",
    "# Add the Earth Engine data layer to your map using the add_ee_layer method\n",
    "map.add_ee_layer(surface_water, vis_params, 'Surface Water')\n",
    "\n",
    "# Center the map on the study area\n",
    "map.center = [37.7749, -122.4194]  # Example center coordinates for San Francisco\n",
    "\n",
    "# Display the map\n",
    "map\n"
   ]
  }
 ],
 "metadata": {
  "kernelspec": {
   "display_name": "geo",
   "language": "python",
   "name": "python3"
  },
  "language_info": {
   "codemirror_mode": {
    "name": "ipython",
    "version": 3
   },
   "file_extension": ".py",
   "mimetype": "text/x-python",
   "name": "python",
   "nbconvert_exporter": "python",
   "pygments_lexer": "ipython3",
   "version": "3.11.7"
  }
 },
 "nbformat": 4,
 "nbformat_minor": 2
}
