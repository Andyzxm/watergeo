{
 "cells": [
  {
   "cell_type": "code",
   "execution_count": 5,
   "metadata": {},
   "outputs": [
    {
     "data": {
      "application/vnd.jupyter.widget-view+json": {
       "model_id": "8c4a800718724e619be85f0c88cab59d",
       "version_major": 2,
       "version_minor": 0
      },
      "text/plain": [
       "Map(center=[46.01, 6.16], controls=(ZoomControl(options=['position', 'zoom_in_text', 'zoom_in_title', 'zoom_ou…"
      ]
     },
     "metadata": {},
     "output_type": "display_data"
    }
   ],
   "source": [
    "from ipyleaflet import basemaps, WidgetControl\n",
    "from ipywidgets import IntSlider, ColorPicker, jslink,Output\n",
    "\n",
    "import watergeo \n",
    "\n",
    "m = watergeo.Map(center=(46.01, 6.16), zoom=12, basemap=basemaps.OpenTopoMap)\n",
    "zoom_slider = IntSlider(description='Zoom level:', min=0, max=17, value=7)\n",
    "jslink((zoom_slider, 'value'), (m, 'zoom'))\n",
    "widget_control1 = WidgetControl(widget=zoom_slider, position='topright')\n",
    "m.add(widget_control1)\n",
    "\n",
    "color_picker = ColorPicker(description='Pick a color:')\n",
    "widget_control2 = WidgetControl(widget=color_picker, position='bottomright')\n",
    "m.add(widget_control2)\n",
    "\n",
    "\n"
   ]
  }
 ],
 "metadata": {
  "kernelspec": {
   "display_name": "geo",
   "language": "python",
   "name": "python3"
  },
  "language_info": {
   "codemirror_mode": {
    "name": "ipython",
    "version": 3
   },
   "file_extension": ".py",
   "mimetype": "text/x-python",
   "name": "python",
   "nbconvert_exporter": "python",
   "pygments_lexer": "ipython3",
   "version": "3.11.7"
  }
 },
 "nbformat": 4,
 "nbformat_minor": 2
}
