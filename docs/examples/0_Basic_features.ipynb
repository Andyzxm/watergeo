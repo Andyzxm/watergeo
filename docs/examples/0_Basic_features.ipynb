{
    "cells": [
        {
            "cell_type": "markdown",
            "id": "4e9b3497",
            "metadata": {},
            "source": [
                "# Basic Map Features\n",
                "\n",
                "You can try out watergeo main features using the google collab without having to install anything on your computer:\n",
                "[![image](https://colab.research.google.com/assets/colab-badge.svg)](https://colab.research.google.com/github/opengeos/leafmap/blob/master)\n"
            ]
        },
        {
            "cell_type": "markdown",
            "id": "04147194",
            "metadata": {},
            "source": [
                "## Install watergeo"
            ]
        },
        {
            "cell_type": "code",
            "execution_count": null,
            "id": "0e7cef06",
            "metadata": {},
            "outputs": [],
            "source": [
                "# !pip install watergeo"
            ]
        },
        {
            "cell_type": "code",
            "execution_count": 7,
            "id": "0e7488d9",
            "metadata": {},
            "outputs": [],
            "source": [
                "\n",
                "import watergeo"
            ]
        },
        {
            "cell_type": "markdown",
            "id": "aae347b3",
            "metadata": {},
            "source": [
                "## Create an interactive map"
            ]
        },
        {
            "cell_type": "code",
            "execution_count": 12,
            "id": "27d18e12",
            "metadata": {},
            "outputs": [
                {
                    "data": {
                        "application/vnd.jupyter.widget-view+json": {
                            "model_id": "8fa3eb223b9047ada2dae89cee025ba0",
                            "version_major": 2,
                            "version_minor": 0
                        },
                        "text/plain": [
                            "Map(center=[20, 0], controls=(ZoomControl(options=['position', 'zoom_in_text', 'zoom_in_title', 'zoom_out_text…"
                        ]
                    },
                    "metadata": {},
                    "output_type": "display_data"
                }
            ],
            "source": [
                "m = watergeo.Map()\n",
                "m"
            ]
        },
        {
            "cell_type": "markdown",
            "id": "88dfd027",
            "metadata": {},
            "source": [
                "## Change basemaps"
            ]
        },
        {
            "cell_type": "code",
            "execution_count": 13,
            "id": "a76cc6c6",
            "metadata": {},
            "outputs": [
                {
                    "data": {
                        "application/vnd.jupyter.widget-view+json": {
                            "model_id": "e5aca902ccf74fed89514151d88a5ea6",
                            "version_major": 2,
                            "version_minor": 0
                        },
                        "text/plain": [
                            "Map(center=[20, 0], controls=(ZoomControl(options=['position', 'zoom_in_text', 'zoom_in_title', 'zoom_out_text…"
                        ]
                    },
                    "metadata": {},
                    "output_type": "display_data"
                }
            ],
            "source": [
                "m = watergeo.Map()\n",
                "m.add_basemap(\"Esri.WorldImagery\")\n",
                "m"
            ]
        },
        {
            "cell_type": "markdown",
            "id": "4564ffef",
            "metadata": {},
            "source": [
                "## Add XYZ tile layer"
            ]
        },
        {
            "cell_type": "code",
            "execution_count": 14,
            "id": "f2b14fd5",
            "metadata": {},
            "outputs": [
                {
                    "data": {
                        "application/vnd.jupyter.widget-view+json": {
                            "model_id": "3ec53ba4993344489ff43be917fc062a",
                            "version_major": 2,
                            "version_minor": 0
                        },
                        "text/plain": [
                            "Map(center=[20, 0], controls=(ZoomControl(options=['position', 'zoom_in_text', 'zoom_in_title', 'zoom_out_text…"
                        ]
                    },
                    "metadata": {},
                    "output_type": "display_data"
                }
            ],
            "source": [
                "m = watergeo.Map()\n",
                "m.add_tile_layer(\n",
                "    url=\"https://mt1.google.com/vt/lyrs=y&x={x}&y={y}&z={z}\",\n",
                "    name=\"Google Satellite\",\n",
                "    attribution=\"Google\",\n",
                ")\n",
                "m"
            ]
        },
        {
            "cell_type": "markdown",
            "metadata": {},
            "source": [
                "## Add shapefile"
            ]
        },
        {
            "cell_type": "code",
            "execution_count": 16,
            "metadata": {},
            "outputs": [
                {
                    "data": {
                        "application/vnd.jupyter.widget-view+json": {
                            "model_id": "e649fff1f4ce47aa99b49dbd0665c014",
                            "version_major": 2,
                            "version_minor": 0
                        },
                        "text/plain": [
                            "Map(center=[0, 0], controls=(ZoomControl(options=['position', 'zoom_in_text', 'zoom_in_title', 'zoom_out_text'…"
                        ]
                    },
                    "metadata": {},
                    "output_type": "display_data"
                }
            ],
            "source": [
                "m = watergeo.Map(center=[0, 0], zoom=2)\n",
                "in_shp = 'https://github.com/opengeos/leafmap/raw/master/examples/data/countries.zip'\n",
                "m.add_shp(in_shp, layer_name=\"Countries\")\n",
                "m"
            ]
        }
    ],
    "metadata": {
        "kernelspec": {
            "display_name": "Python 3",
            "language": "python",
            "name": "python3"
        },
        "language_info": {
            "codemirror_mode": {
                "name": "ipython",
                "version": 3
            },
            "file_extension": ".py",
            "mimetype": "text/x-python",
            "name": "python",
            "nbconvert_exporter": "python",
            "pygments_lexer": "ipython3",
            "version": "3.11.7"
        }
    },
    "nbformat": 4,
    "nbformat_minor": 5
}
