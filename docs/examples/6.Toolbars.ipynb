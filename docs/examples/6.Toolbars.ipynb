{
 "cells": [
  {
   "cell_type": "markdown",
   "metadata": {},
   "source": [
    "[![image](https://colab.research.google.com/assets/colab-badge.svg)](https://colab.research.google.com/github/Andyzxm/watergeo/blob/main/docs/examples/Basemap.ipynb)"
   ]
  },
  {
   "cell_type": "markdown",
   "metadata": {},
   "source": [
    "## Adding Dropdown list for basemap selections\n",
    "\n",
    "- Use add_toolar function to access basemap selections \n",
    "- Click on globe icon to access basemap gui function that provide serveal basemap chocies\n",
    "- Click on the selected basemap to visualize basemap selection  (The current available basemaps are  \"OpenStreetMap,\" \"OpenTopoMap,\" \"Esri.WorldImagery,\" and \"CartoDB.DarkMatter.\") \n",
    "- When you are done with basemap selection, you can click on the x button to hide the dropdown list or click on the globe icon to toggle off the selected basemap\n"
   ]
  },
  {
   "cell_type": "code",
   "execution_count": 1,
   "metadata": {},
   "outputs": [],
   "source": [
    "import watergeo"
   ]
  },
  {
   "cell_type": "code",
   "execution_count": 2,
   "metadata": {},
   "outputs": [
    {
     "data": {
      "application/vnd.jupyter.widget-view+json": {
       "model_id": "b1bbff812e0f49439c0e78a0041ed9fb",
       "version_major": 2,
       "version_minor": 0
      },
      "text/plain": [
       "Map(center=[20, 0], controls=(ZoomControl(options=['position', 'zoom_in_text', 'zoom_in_title', 'zoom_out_text…"
      ]
     },
     "metadata": {},
     "output_type": "display_data"
    }
   ],
   "source": [
    "m= watergeo.Map()\n",
    "m.add_toolbar()\n",
    "m"
   ]
  }
 ],
 "metadata": {
  "kernelspec": {
   "display_name": "geo",
   "language": "python",
   "name": "python3"
  },
  "language_info": {
   "codemirror_mode": {
    "name": "ipython",
    "version": 3
   },
   "file_extension": ".py",
   "mimetype": "text/x-python",
   "name": "python",
   "nbconvert_exporter": "python",
   "pygments_lexer": "ipython3",
   "version": "3.11.7"
  }
 },
 "nbformat": 4,
 "nbformat_minor": 2
}
