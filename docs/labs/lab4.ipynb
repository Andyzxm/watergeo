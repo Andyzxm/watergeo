{
 "cells": [
  {
   "attachments": {},
   "cell_type": "markdown",
   "id": "0",
   "metadata": {},
   "source": [
    "# Lab 4\n",
    "\n",
    "[![image](https://colab.research.google.com/assets/colab-badge.svg)](https://colab.research.google.com/github/giswqs/geohey/blob/main/docs/labs/lab4.ipynb)\n",
    "\n",
    "## Submission instructions\n",
    "\n",
    "1. Download the notebook from https://geohey.gishub.org/labs/lab4\n",
    "2. Complete the lab questions\n",
    "3. Restart Kernel and Run All Cells\n",
    "4. Upload the notebook to your GitHub repository\n",
    "5. Make sure the notebook has an `Open In Colab` badge. Click on the badge to make sure your notebook can be opened in Colab.\n",
    "6. Submit the link to the notebook on your GitHub repository to Canvas"
   ]
  },
  {
   "cell_type": "code",
   "execution_count": 1,
   "id": "1",
   "metadata": {},
   "outputs": [
    {
     "name": "stdout",
     "output_type": "stream",
     "text": [
      "Submitted time: 2024-02-26 14:14:54.169779\n"
     ]
    }
   ],
   "source": [
    "from datetime import datetime\n",
    "\n",
    "now = datetime.now()\n",
    "print(f\"Submitted time: {now}\")"
   ]
  },
  {
   "cell_type": "markdown",
   "id": "2",
   "metadata": {},
   "source": [
    "## Question 1\n",
    "\n",
    "**Personal Message:** Use a variable to represent a person’s name, and print a message to that person. Your message should be simple, such as, “Hello Eric, would you like to learn some Python today?”"
   ]
  },
  {
   "cell_type": "code",
   "execution_count": 2,
   "id": "3",
   "metadata": {},
   "outputs": [
    {
     "name": "stdout",
     "output_type": "stream",
     "text": [
      "Hello Andy, would you like to learn some Python today?\n"
     ]
    }
   ],
   "source": [
    "print(\"Hello Andy, would you like to learn some Python today?\")\n"
   ]
  },
  {
   "cell_type": "markdown",
   "id": "4",
   "metadata": {},
   "source": [
    "## Question 2\n",
    "\n",
    "**Name Cases:** Use a variable to represent a person’s name, and then print that person’s name in lowercase, uppercase, and title case."
   ]
  },
  {
   "cell_type": "code",
   "execution_count": 3,
   "id": "5",
   "metadata": {},
   "outputs": [
    {
     "name": "stdout",
     "output_type": "stream",
     "text": [
      "KIRSTEN GODISH\n",
      "kirsten godish\n",
      "Kirsten Godish\n"
     ]
    }
   ],
   "source": [
    "name= \"kirsten godish\"\n",
    "print(name.upper())\n",
    "print(name.lower())\n",
    "print(name.title())"
   ]
  },
  {
   "cell_type": "markdown",
   "id": "6",
   "metadata": {},
   "source": [
    "## Question 3\n",
    "\n",
    "**Famous Quote:** Find a quote from a famous person you admire. Print the quote and the name of its author. Your output should look something like the following, including the quotation marks:\n",
    "\n",
    "```\n",
    "Albert Einstein once said, “A person who never made a mistake never tried anything new.”\n",
    "```"
   ]
  },
  {
   "cell_type": "code",
   "execution_count": 4,
   "id": "7",
   "metadata": {},
   "outputs": [
    {
     "name": "stdout",
     "output_type": "stream",
     "text": [
      "Waldo Tobler once said, \"everything is related to everything else, but near things are more related than distant things.\"\n"
     ]
    }
   ],
   "source": [
    "quote='Waldo Tobler once said, \"everything is related to everything else, but near things are more related than distant things.\"'\n",
    "print(quote)"
   ]
  },
  {
   "cell_type": "markdown",
   "id": "8",
   "metadata": {},
   "source": [
    "## Question 4\n",
    "\n",
    "**Stripping Names:** Use a variable to represent a person’s name, and include some whitespace characters at the beginning and end of the name. Make sure you use each character combination, \"\\t\" and \"\\n\", at least once.\n",
    "Print the name once, so the whitespace around the name is displayed. Then print the name using each of the three stripping functions, lstrip(), rstrip(), and strip()."
   ]
  },
  {
   "cell_type": "code",
   "execution_count": 5,
   "id": "de2eaf3f",
   "metadata": {},
   "outputs": [
    {
     "name": "stdout",
     "output_type": "stream",
     "text": [
      "\t  Kirsten Godish\n",
      "\n",
      "Kirsten Godish\n",
      "\n",
      "\t  Kirsten Godish\n",
      "Kirsten Godish\n"
     ]
    }
   ],
   "source": [
    "name = \"\\t  Kirsten Godish\\n\"\n",
    "print(name)\n",
    "print(name.lstrip())\n",
    "print(name.rstrip())\n",
    "print(name.strip())"
   ]
  },
  {
   "cell_type": "markdown",
   "id": "10",
   "metadata": {},
   "source": [
    "## Question 5\n",
    "\n",
    "**Names:** Store the names of a few of your friends in a list called names. Print\n",
    "each person’s name by accessing each element in the list, one at a time."
   ]
  },
  {
   "cell_type": "code",
   "execution_count": 6,
   "id": "11",
   "metadata": {},
   "outputs": [
    {
     "name": "stdout",
     "output_type": "stream",
     "text": [
      "Eric\n",
      "Sindupa\n",
      "Joel\n",
      "Kirsten\n",
      "Andy\n"
     ]
    }
   ],
   "source": [
    "names= [\"Eric\", \"Sindupa\", \"Joel\",\"Kirsten\",\"Andy\" ]\n",
    "print(names[0])\n",
    "print(names[1])\n",
    "print(names[2])\n",
    "print(names[3])\n",
    "print(names[4])"
   ]
  },
  {
   "cell_type": "markdown",
   "id": "12",
   "metadata": {},
   "source": [
    "## Question 6\n",
    "\n",
    "**Your Own List:** Think of your favorite mode of transportation, such as a motorcycle or a car, and make a list that stores several examples. Use your list to print a series of statements about these items, such as “I would like to own a Honda motorcycle.”"
   ]
  },
  {
   "cell_type": "code",
   "execution_count": 7,
   "id": "13",
   "metadata": {},
   "outputs": [
    {
     "name": "stdout",
     "output_type": "stream",
     "text": [
      "I would like to own a Toyota Land Cruiser\n",
      "I would like to own a Toyota Tacoma\n",
      "I would like to own a Ford F-150\n"
     ]
    }
   ],
   "source": [
    "cars=[\"Toyota Land Cruiser\",\"Toyota Tacoma\",\"Ford F-150\"]\n",
    "message1=f\"I would like to own a {cars[0]}\"\n",
    "message2=f\"I would like to own a {cars[1]}\"\n",
    "message3=f\"I would like to own a {cars[2]}\"\n",
    "print (message1)\n",
    "print(message2)\n",
    "print(message3)"
   ]
  },
  {
   "cell_type": "markdown",
   "id": "14",
   "metadata": {},
   "source": [
    "## Question 7\n",
    "\n",
    "**Pizzas:** Think of at least three kinds of your favorite pizza. Store these pizza names in a list, and then use a for loop to print the name of each pizza.\n",
    "\n",
    "Modify your for loop to print a sentence using the name of the pizza instead of printing just the name of the pizza. For each pizza you should have one line of output containing a simple statement like _I like pepperoni pizza._"
   ]
  },
  {
   "cell_type": "code",
   "execution_count": 8,
   "id": "15",
   "metadata": {},
   "outputs": [
    {
     "name": "stdout",
     "output_type": "stream",
     "text": [
      "I like Pepperoni pizza\n",
      "I like Meat Lover pizza\n",
      "I like Hawaii pizza\n"
     ]
    }
   ],
   "source": [
    "pizzas= [\"pepperoni\",\"meat lover\",\"hawaii\"]\n",
    "\n",
    "for pizza in pizzas:\n",
    "    print(f\"I like {pizza.title()} pizza\")"
   ]
  },
  {
   "cell_type": "markdown",
   "id": "16",
   "metadata": {},
   "source": [
    "Add a line at the end of your program, outside the for loop, that states how much you like pizza. The output should consist of three or more lines about the kinds of pizza you like and then an additional sentence, such as _I really love pizza!_"
   ]
  },
  {
   "cell_type": "code",
   "execution_count": 9,
   "id": "17",
   "metadata": {},
   "outputs": [
    {
     "name": "stdout",
     "output_type": "stream",
     "text": [
      "I like Pepperoni pizza\n",
      "I like Meat Lover pizza\n",
      "I like Hawaii pizza\n",
      "I really love pizza\n"
     ]
    }
   ],
   "source": [
    "pizzas= [\"pepperoni\",\"meat lover\",\"hawaii\"]\n",
    "\n",
    "for pizza in pizzas:\n",
    "    print(f\"I like {pizza.title()} pizza\")\n",
    "print(\"I really love pizza\")"
   ]
  },
  {
   "cell_type": "markdown",
   "id": "18",
   "metadata": {},
   "source": [
    "## Question 8\n",
    "\n",
    "**Animals:** Think of at least three different animals that have a common characteristic. Store the names of these animals in a list, and then use a for loop to print out the name of each animal.\n",
    "\n",
    "Modify your program to print a statement about each animal, such as _A dog would make a great pet._"
   ]
  },
  {
   "cell_type": "code",
   "execution_count": 10,
   "id": "19",
   "metadata": {},
   "outputs": [
    {
     "name": "stdout",
     "output_type": "stream",
     "text": [
      "A Rat would make a great pet\n",
      "A Dog would make a great pet\n",
      "A Cat would make a great pet\n",
      "A Rabbit would make a great pet\n"
     ]
    }
   ],
   "source": [
    "animals=[\"rat\",\"dog\",\"cat\",\"rabbit\"]\n",
    "for a in animals:\n",
    "    print(f\"A {a.title()} would make a great pet\")"
   ]
  },
  {
   "cell_type": "markdown",
   "id": "20",
   "metadata": {},
   "source": [
    "Add a line at the end of your program stating what these animals have in common. You could print a sentence such as _Any of these animals would make a great pet!_"
   ]
  },
  {
   "cell_type": "code",
   "execution_count": 11,
   "id": "21",
   "metadata": {},
   "outputs": [
    {
     "name": "stdout",
     "output_type": "stream",
     "text": [
      "A Rat would make a great pet\n",
      "A Dog would make a great pet\n",
      "A Cat would make a great pet\n",
      "A Rabbit would make a great pet\n",
      "Any of these animals are cute and can be house pets\n"
     ]
    }
   ],
   "source": [
    "for a in animals:\n",
    "    print(f\"A {a.title()} would make a great pet\")\n",
    "print(\"Any of these animals are cute and can be house pets\")"
   ]
  },
  {
   "cell_type": "markdown",
   "id": "22",
   "metadata": {},
   "source": [
    "## Question 9\n",
    "\n",
    "**Summing a Hundred:** Make a list of the numbers from one to one hundred, and then use `min()` and `max()` to make sure your list actually starts at one and ends at one hundred. Also, use the sum() function to see how quickly Python can add a hundred numbers."
   ]
  },
  {
   "cell_type": "code",
   "execution_count": 12,
   "id": "23",
   "metadata": {},
   "outputs": [
    {
     "name": "stdout",
     "output_type": "stream",
     "text": [
      "1\n",
      "100\n",
      "5050\n"
     ]
    }
   ],
   "source": [
    "numbers=list(range(1,101))\n",
    "print(min(numbers))\n",
    "print(max(numbers))\n",
    "print(sum(numbers))"
   ]
  },
  {
   "cell_type": "markdown",
   "id": "24",
   "metadata": {},
   "source": [
    "## Question 10\n",
    "\n",
    "**Odd Numbers:** Use the third argument of the `range()` function to make a list of the odd numbers from 1 to 20. Use a `for` loop to print each number."
   ]
  },
  {
   "cell_type": "code",
   "execution_count": 13,
   "id": "25",
   "metadata": {},
   "outputs": [
    {
     "name": "stdout",
     "output_type": "stream",
     "text": [
      "1\n",
      "3\n",
      "5\n",
      "7\n",
      "9\n",
      "11\n",
      "13\n",
      "15\n",
      "17\n",
      "19\n"
     ]
    }
   ],
   "source": [
    "odd=list(range(1,21,2))\n",
    "for odd in odd:\n",
    "    print(odd)"
   ]
  },
  {
   "cell_type": "markdown",
   "id": "26",
   "metadata": {},
   "source": [
    "## Question 11\n",
    "\n",
    "**Threes:** Make a list of the multiples of 3 from 3 to 30. Use a `for` loop to print the numbers in your list."
   ]
  },
  {
   "cell_type": "code",
   "execution_count": 14,
   "id": "27",
   "metadata": {},
   "outputs": [
    {
     "name": "stdout",
     "output_type": "stream",
     "text": [
      "3\n",
      "6\n",
      "9\n",
      "12\n",
      "15\n",
      "18\n",
      "21\n",
      "24\n",
      "27\n",
      "30\n"
     ]
    }
   ],
   "source": [
    "threes=list(range(3,31,3))\n",
    "for three in threes:\n",
    "    print(three)"
   ]
  },
  {
   "cell_type": "markdown",
   "id": "28",
   "metadata": {},
   "source": [
    "## Question 12\n",
    "\n",
    "**Cube Comprehension:** Use a list comprehension to generate a list of the first 10 cubes."
   ]
  },
  {
   "cell_type": "code",
   "execution_count": 15,
   "id": "29",
   "metadata": {},
   "outputs": [
    {
     "name": "stdout",
     "output_type": "stream",
     "text": [
      "[1, 8, 27, 64, 125, 216, 343, 512, 729, 1000]\n"
     ]
    }
   ],
   "source": [
    "cubes=[value**3 for value in range (1,11)]\n",
    "print(cubes)"
   ]
  },
  {
   "cell_type": "markdown",
   "id": "30",
   "metadata": {},
   "source": [
    "## Question 13\n",
    "\n",
    "**Slices:** Using one of the programs you wrote in this lab, add several lines to the end of the program that do the following:\n",
    "\n",
    "Print the message _The first three items in the list are:_. Then use a slice to print the first three items from that program’s list."
   ]
  },
  {
   "cell_type": "code",
   "execution_count": 16,
   "id": "31",
   "metadata": {},
   "outputs": [
    {
     "name": "stdout",
     "output_type": "stream",
     "text": [
      "the first three animals in the list are:\n",
      "Rat\n",
      "Dog\n",
      "Cat\n"
     ]
    }
   ],
   "source": [
    "animals=[\"rat\",\"dog\",\"cat\",\"rabbit\"]\n",
    "print(\"the first three animals in the list are:\")\n",
    "for a in animals[:3]:\n",
    "    print(a.title())"
   ]
  },
  {
   "cell_type": "markdown",
   "id": "32",
   "metadata": {},
   "source": [
    "Print the message _Three items from the middle of the list are:_. Use a slice to print three items from the middle of the list."
   ]
  },
  {
   "cell_type": "code",
   "execution_count": 17,
   "id": "33",
   "metadata": {},
   "outputs": [
    {
     "name": "stdout",
     "output_type": "stream",
     "text": [
      "three names from the middle of the list are:\n",
      "Sindupa\n",
      "Joel\n",
      "Kirsten\n"
     ]
    }
   ],
   "source": [
    "names= [\"Eric\", \"Sindupa\", \"Joel\",\"Kirsten\",\"Andy\" ]\n",
    "print(\"three names from the middle of the list are:\")\n",
    "for n in names[1:4]:\n",
    "    print(n.title())"
   ]
  },
  {
   "cell_type": "markdown",
   "id": "34",
   "metadata": {},
   "source": [
    "Print the message _The last three items in the list are:_. Use a slice to print the last three items in the list."
   ]
  },
  {
   "cell_type": "code",
   "execution_count": 18,
   "id": "35",
   "metadata": {},
   "outputs": [
    {
     "name": "stdout",
     "output_type": "stream",
     "text": [
      "the last three names from the list are:\n",
      "Joel\n",
      "Kirsten\n",
      "Andy\n"
     ]
    }
   ],
   "source": [
    "print(\"the last three names from the list are:\")\n",
    "for n in names[2:5]:\n",
    "    print(n.title())"
   ]
  },
  {
   "cell_type": "markdown",
   "id": "36",
   "metadata": {},
   "source": [
    "## Question 14\n",
    "\n",
    "**Buffet:** A buffet-style restaurant offers only five basic foods. Think of five simple foods, and store them in a tuple.\n",
    "\n",
    "Use a for loop to print each food the restaurant offers."
   ]
  },
  {
   "cell_type": "code",
   "execution_count": 19,
   "id": "37",
   "metadata": {},
   "outputs": [
    {
     "name": "stdout",
     "output_type": "stream",
     "text": [
      "Buffet Food:\n",
      "Fires\n",
      "Steak\n",
      "Ribs\n",
      "Kongpao Chicken\n",
      "Mapo Tofu\n"
     ]
    }
   ],
   "source": [
    "foods=(\"fires\",\"steak\",\"ribs\",\"kongpao chicken\",\"mapo tofu\")\n",
    "print(\"Buffet Food:\")\n",
    "for f in foods:\n",
    "    print(f.title())"
   ]
  },
  {
   "cell_type": "markdown",
   "id": "38",
   "metadata": {},
   "source": [
    "The restaurant changes its menu, replacing two of the items with different foods. Add a line that rewrites the tuple, and then use a for loop to print each of the items on the revised menu."
   ]
  },
  {
   "cell_type": "code",
   "execution_count": 20,
   "id": "39",
   "metadata": {},
   "outputs": [
    {
     "name": "stdout",
     "output_type": "stream",
     "text": [
      "New Buffet Food:\n",
      "Noodle\n",
      "Dim Sum\n",
      "Ribs\n",
      "Kongpao Chicken\n",
      "Mapo Tofu\n"
     ]
    }
   ],
   "source": [
    "foods=(\"noodle\",\"Dim sum\",\"ribs\",\"kongpao chicken\",\"mapo tofu\")\n",
    "print(\"New Buffet Food:\")\n",
    "for f in foods:\n",
    "    print(f.title())"
   ]
  },
  {
   "cell_type": "markdown",
   "id": "40",
   "metadata": {},
   "source": [
    "## Question 15\n",
    "\n",
    "**Alien Colors:** Imagine an alien was just shot down in a game. Create a variable called `alien_color` and assign it a value of `green, yellow,` or `red`.\n",
    "\n",
    "-   Write an if statement to test whether the alien’s color is green. If it is, print a message that the player just earned 5 points.\n",
    "-   Write one version of this program that passes the if test and another that fails. (The version that fails will have no output.)"
   ]
  },
  {
   "cell_type": "code",
   "execution_count": 21,
   "id": "41",
   "metadata": {},
   "outputs": [
    {
     "name": "stdout",
     "output_type": "stream",
     "text": [
      "The player earned 5 points!\n"
     ]
    }
   ],
   "source": [
    "alien_colors = [\"green\"]\n",
    "\n",
    "for color in alien_colors:\n",
    "    if color == \"green\":\n",
    "        print(\"The player earned 5 points!\")"
   ]
  },
  {
   "cell_type": "code",
   "execution_count": 22,
   "metadata": {},
   "outputs": [],
   "source": [
    "alien_colors = [\"yellow\"]\n",
    "\n",
    "for color in alien_colors:\n",
    "    if color == \"green\":\n",
    "        print(\"The player earned 5 points!\")"
   ]
  },
  {
   "cell_type": "markdown",
   "id": "42",
   "metadata": {},
   "source": [
    "## Question 16\n",
    "\n",
    "**Stages of Life:** Write an `if-elif-else` chain that determines a person’s stage of life. Set a value for the variable `age`, and then:\n",
    "\n",
    "-   If the person is less than 2 years old, print a message that the person is a baby.\n",
    "-   If the person is at least 2 years old but less than 4, print a message that the person is a toddler.\n",
    "-   If the person is at least 4 years old but less than 13, print a message that the person is a kid.\n",
    "-   If the person is at least 13 years old but less than 20, print a message that the person is a teenager.\n",
    "-   If the person is at least 20 years old but less than 65, print a message that the person is an adult."
   ]
  },
  {
   "cell_type": "code",
   "execution_count": 23,
   "id": "43",
   "metadata": {},
   "outputs": [
    {
     "name": "stdout",
     "output_type": "stream",
     "text": [
      "You are an adult now, do you have a job?\n"
     ]
    }
   ],
   "source": [
    "age = 30\n",
    "if age <= 2 :\n",
    "    print(\"You are a baby! Very fresh!\")\n",
    "elif age >= 2 and age < 4:\n",
    "    print(\"You are a toddler, can you walk now?\")\n",
    "elif age >=4 and age <13:\n",
    "    print(\"You are a kid now! go to school!\")\n",
    "elif age >=13 and age< 20: \n",
    "    print(\"You are a teenager now, what a pain\")\n",
    "elif age >=20 and age < 60:\n",
    "    print(\"You are an adult now, do you have a job?\")"
   ]
  },
  {
   "cell_type": "markdown",
   "id": "44",
   "metadata": {},
   "source": [
    "## Question 17\n",
    "\n",
    "**Favorite Fruit:** Make a list of your favorite fruits, and then write a series of independent `if` statements that check for certain fruits in your list.\n",
    "\n",
    "-   Make a list of your three favorite fruits and call it favorite_fruits.\n",
    "-   Write five if statements. Each should check whether a certain kind of fruit is in your list. If the fruit is in your list, the if block should print a statement, such as You really like bananas!"
   ]
  },
  {
   "cell_type": "code",
   "execution_count": 24,
   "id": "57380079",
   "metadata": {},
   "outputs": [
    {
     "name": "stdout",
     "output_type": "stream",
     "text": [
      "You really like apples!\n",
      "You really like oranges!\n",
      "You really like grapefruit!\n"
     ]
    }
   ],
   "source": [
    "fav_fruits = [\"apple\", \"grapefruit\", \"orange\"]\n",
    "\n",
    "if \"apple\" in fav_fruits:\n",
    "    print(\"You really like apples!\")\n",
    "if \"banana\" in fav_fruits:\n",
    "    print(\"You really like bananas!\")\n",
    "if \"orange\" in fav_fruits:\n",
    "    print(\"You really like oranges!\")\n",
    "if \"grapefruit\" in fav_fruits:\n",
    "    print(\"You really like grapefruit!\")\n",
    "if \"kiwi\" in fav_fruits:\n",
    "    print(\"You really like kiwis!\")"
   ]
  },
  {
   "cell_type": "markdown",
   "id": "46",
   "metadata": {},
   "source": [
    "## Question 18\n",
    "\n",
    "**Hello Admin:** Make a list of five or more usernames, including the name `admin`. Imagine you are writing code that will print a greeting to each user after they log in to a website. Loop through the list, and print a greeting to each user:\n",
    "\n",
    "-   If the username is 'admin', print a special greeting, such as _Hello admin, would you like to see a status report?_\n",
    "-   Otherwise, print a generic greeting, such as _Hello Jaden, thank you for logging in again_."
   ]
  },
  {
   "cell_type": "code",
   "execution_count": 25,
   "id": "47",
   "metadata": {},
   "outputs": [
    {
     "name": "stdout",
     "output_type": "stream",
     "text": [
      "Hello admin, would you like to see a status report?\n",
      "Hello mom, thank you for logging in again\n",
      "Hello dad, thank you for logging in again\n",
      "Hello me, thank you for logging in again\n",
      "Hello dad_work, thank you for logging in again\n"
     ]
    }
   ],
   "source": [
    "username=[\"admin\",\"mom\",\"dad\",\"me\",\"dad_work\"]\n",
    "for username in username:\n",
    "    if username == \"admin\":\n",
    "        print(\"Hello admin, would you like to see a status report?\")\n",
    "    else:\n",
    "        print(f\"Hello {username}, thank you for logging in again\")"
   ]
  },
  {
   "cell_type": "markdown",
   "id": "48",
   "metadata": {},
   "source": [
    "## Question 19\n",
    "\n",
    "**Checking Usernames:** Do the following to create a program that simulates how websites ensure that everyone has a unique username.\n",
    "\n",
    "-   Make a list of five or more usernames called `current_users`.\n",
    "-   Make another list of five usernames called `new_users`. Make sure one or two of the new usernames are also in the `current_users` list.\n",
    "-   Loop through the `new_users` list to see if each new username has already been used. If it has, print a message that the person will need to enter a new username. If a username has not been used, print a message saying that the username is available.\n",
    "-   Make sure your comparison is case insensitive. If 'John' has been used, 'JOHN' should not be accepted. (To do this, you’ll need to make a copy of `current_users` containing the lowercase versions of all existing users.)"
   ]
  },
  {
   "cell_type": "code",
   "execution_count": 30,
   "id": "49",
   "metadata": {},
   "outputs": [
    {
     "name": "stdout",
     "output_type": "stream",
     "text": [
      "This username lionking is available\n",
      "This username monkeyking is available\n",
      "This username pandaking is not available, need to enter a new one\n",
      "This username pandakingzxm is available\n",
      "This username andy is not available, need to enter a new one\n"
     ]
    }
   ],
   "source": [
    "current_users= [\"andy\",\"andy_work\",\"andy_game\",\"andyzxm\",\"pandaking\"]\n",
    "new_users=[\"lionking\",\"monkeyking\",\"pandaking\",\"pandakingzxm\",\"andy\"]\n",
    "\n",
    "for user in new_users:\n",
    "    if user in current_users:\n",
    "        print(f\"This username {user} is not available, need to enter a new one\")\n",
    "    else: \n",
    "        print(f\"This username {user} is available\")"
   ]
  },
  {
   "cell_type": "markdown",
   "id": "50",
   "metadata": {},
   "source": [
    "## Question 20\n",
    "\n",
    "**Ordinal Numbers:** Ordinal numbers indicate their position in a list, such as _1st_ or _2nd_. Most ordinal numbers end in _th_, except 1, 2, and 3.\n",
    "\n",
    "-   Store the numbers 1 through 9 in a list.\n",
    "-   Loop through the list.\n",
    "-   Use an `if-elif-else` chain inside the loop to print the proper ordinal ending for each number. Your output should read \"1st 2nd 3rd 4th 5th 6th 7th 8th 9th\", and each result should be on a separate line."
   ]
  },
  {
   "cell_type": "code",
   "execution_count": 27,
   "id": "51",
   "metadata": {},
   "outputs": [
    {
     "name": "stdout",
     "output_type": "stream",
     "text": [
      "1st\n",
      "2nd\n",
      "3rd\n",
      "4th\n",
      "5th\n",
      "6th\n",
      "7th\n",
      "8th\n",
      "9th\n"
     ]
    }
   ],
   "source": [
    "number= list(range(1,10))\n",
    "\n",
    "for number in number:\n",
    "    if number ==1:\n",
    "        ordinal= \"1st\"\n",
    "    elif number ==2:\n",
    "        ordinal= \"2nd\"\n",
    "    elif number ==3:\n",
    "        ordinal= \"3rd\"\n",
    "    else: \n",
    "        ordinal= str(number)+\"th\"\n",
    "    print(ordinal)"
   ]
  }
 ],
 "metadata": {
  "kernelspec": {
   "display_name": "Python 3",
   "language": "python",
   "name": "python3"
  },
  "language_info": {
   "codemirror_mode": {
    "name": "ipython",
    "version": 3
   },
   "file_extension": ".py",
   "mimetype": "text/x-python",
   "name": "python",
   "nbconvert_exporter": "python",
   "pygments_lexer": "ipython3",
   "version": "3.11.7"
  }
 },
 "nbformat": 4,
 "nbformat_minor": 5
}
