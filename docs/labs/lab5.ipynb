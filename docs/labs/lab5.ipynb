{
 "cells": [
  {
   "cell_type": "markdown",
   "id": "0",
   "metadata": {},
   "source": [
    "# Lab 5\n",
    "\n",
    "[![image](https://colab.research.google.com/assets/colab-badge.svg)](https://colab.research.google.com/github/giswqs/geohey/blob/main/docs/labs/lab5.ipynb)\n",
    "\n",
    "## Submission instructions\n",
    "\n",
    "1. Download the notebook from https://geohey.gishub.org/labs/lab5\n",
    "2. Complete the lab questions\n",
    "3. Restart Kernel and Run All Cells\n",
    "4. Upload the notebook to your GitHub repository\n",
    "5. Make sure the notebook has an `Open In Colab` badge. Click on the badge to make sure your notebook can be opened in Colab.\n",
    "6. Submit the link to the notebook on your GitHub repository to Canvas"
   ]
  },
  {
   "cell_type": "markdown",
   "id": "1",
   "metadata": {},
   "source": [
    "## Question 1\n",
    "\n",
    "**Person:** Use a dictionary to store information about a person you know. Store their first name, last name, age, and the city in which they live. You should have keys such as first_name, last_name, age, and city. Print each piece of information stored in your dictionary."
   ]
  },
  {
   "cell_type": "code",
   "execution_count": 1,
   "id": "2",
   "metadata": {},
   "outputs": [
    {
     "name": "stdout",
     "output_type": "stream",
     "text": [
      "Kirsten\n",
      "Godish\n",
      "23\n",
      "Charleston\n"
     ]
    }
   ],
   "source": [
    "person= {\"first_name\": \"Kirsten\", \"last_name\": \"Godish\", \"age\":\"23\",\"city\":\"Charleston\"}\n",
    "print(person['first_name'])\n",
    "print(person['last_name'])\n",
    "print(person['age'])\n",
    "print(person['city'])"
   ]
  },
  {
   "cell_type": "markdown",
   "id": "3",
   "metadata": {},
   "source": [
    "## Question 2\n",
    "\n",
    "**Favorite Numbers:** Use a dictionary to store people’s favorite numbers. Think of five names, and use them as keys in your dictionary. Think of a favorite number for each person, and store each as a value in your dictionary. Print each person’s name and their favorite number. For even more fun, poll a few friends and get some actual data for your program."
   ]
  },
  {
   "cell_type": "code",
   "execution_count": 4,
   "id": "4",
   "metadata": {},
   "outputs": [
    {
     "name": "stdout",
     "output_type": "stream",
     "text": [
      "andy's favorite number is 7.\n",
      "joe's favorite number is 8.\n",
      "eric's favorite number is 9.\n",
      "kirsten's favorite number is 10.\n",
      "sindupa's favorite number is 11.\n"
     ]
    }
   ],
   "source": [
    "favorite_numbers = { 'andy': 7,'joe': 8,'eric': 9,'kirsten': 10,'sindupa': 11}\n",
    "for person, number in favorite_numbers.items():\n",
    "    print(f\"{person}'s favorite number is {number}.\")"
   ]
  },
  {
   "cell_type": "markdown",
   "id": "5",
   "metadata": {},
   "source": [
    "## Question 3\n",
    "\n",
    "**Glossary:** A Python dictionary can be used to model an actual dictionary. However, to avoid confusion, let’s call it a glossary.\n",
    "\n",
    "- Think of five programming words you’ve learned about in the previous chapters. Use these words as the keys in your glossary, and store their meanings as values.\n",
    "- Print each word and its meaning as neatly formatted output. You might print the word followed by a colon and then its meaning, or print the word on one line and then print its meaning indented on a second line. Use the newline character (\\n) to insert a blank line between each word-meaning pair in your output."
   ]
  },
  {
   "cell_type": "code",
   "execution_count": 21,
   "id": "6",
   "metadata": {},
   "outputs": [
    {
     "name": "stdout",
     "output_type": "stream",
     "text": [
      "variable:  Assigned values using the = operator\n",
      "\n",
      "function:  A block of organized, reusable code that is used to perform a single, related action.\n",
      "\n",
      "loop:  A control flow statement for iterating over a sequence of elements.\n",
      "\n",
      "list:  A Python data type that holds an ordered collection of values,\n",
      "\n",
      "dictionary:  A collection of key-value pairs, where each key is unique.\n",
      "\n"
     ]
    }
   ],
   "source": [
    "glossary = {\n",
    "    'variable': 'Assigned values using the = operator',\n",
    "    'function': 'A block of organized, reusable code that is used to perform a single, related action.',\n",
    "    'loop': 'A control flow statement for iterating over a sequence of elements.',\n",
    "    'list': 'A Python data type that holds an ordered collection of values,',\n",
    "    'dictionary': 'A collection of key-value pairs, where each key is unique.'\n",
    "}\n",
    "for word,meaning in glossary.items():\n",
    "    print(f\"{word}:  {meaning}\\n\")"
   ]
  },
  {
   "cell_type": "markdown",
   "id": "7",
   "metadata": {},
   "source": [
    "## Question 4\n",
    "\n",
    "**Glossary 2:** Now that you know how to loop through a dictionary, clean up the code from Question 3 by replacing your series of print() calls with a loop that runs through the dictionary’s keys and values. When you’re sure that your loop works, add five more Python terms to your glossary. When you run your program again, these new words and meanings should automatically be included in the output."
   ]
  },
  {
   "cell_type": "code",
   "execution_count": 22,
   "id": "8",
   "metadata": {},
   "outputs": [
    {
     "name": "stdout",
     "output_type": "stream",
     "text": [
      "variable:  Assigned values using the = operator\n",
      "\n",
      "function:  A block of organized, reusable code that is used to perform a single, related action.\n",
      "\n",
      "loop:  A control flow statement for iterating over a sequence of elements.\n",
      "\n",
      "list:  A Python data type that holds an ordered collection of values,\n",
      "\n",
      "dictionary:  A collection of key-value pairs, where each key is unique.\n",
      "\n",
      "string:  A string is a data type that represents a sequence of characters.\n",
      "\n",
      "float:  Python calls any number with a decimal point a float\n",
      "\n",
      "integer:  Integers represent whole numbers, positive or negative, without any decimal point.\n",
      "\n",
      "Module:  A file containing Python definitions and statements intended for use in other Python programs.\n",
      "\n",
      "tuple:  A collection which is ordered and unchangeable. Allows duplicate members.\n",
      "\n"
     ]
    }
   ],
   "source": [
    "glossary.update({\n",
    "    'string': 'A string is a data type that represents a sequence of characters.',\n",
    "    'float': 'Python calls any number with a decimal point a float',\n",
    "    'integer': 'Integers represent whole numbers, positive or negative, without any decimal point.',\n",
    "    'Module': 'A file containing Python definitions and statements intended for use in other Python programs.',\n",
    "    'tuple': 'A collection which is ordered and unchangeable. Allows duplicate members.'\n",
    "})\n",
    "for word,meaning in glossary.items():\n",
    "    print(f\"{word}:  {meaning}\\n\")"
   ]
  },
  {
   "cell_type": "markdown",
   "id": "9",
   "metadata": {},
   "source": [
    "## Question 5\n",
    "\n",
    "**Rivers:** Make a dictionary containing three major rivers and the country each river runs through. One key-value pair might be 'nile': 'egypt'.\n",
    "\n",
    "- Use a loop to print a sentence about each river, such as _The Nile runs through Egypt._\n",
    "- Use a loop to print the name of each river included in the dictionary.\n",
    "- Use a loop to print the name of each country included in the dictionary."
   ]
  },
  {
   "cell_type": "code",
   "execution_count": 39,
   "id": "10",
   "metadata": {},
   "outputs": [
    {
     "name": "stdout",
     "output_type": "stream",
     "text": [
      " The nile runs through egypt\n",
      " The yellow river runs through china\n",
      " The Mississippi runs through US\n"
     ]
    }
   ],
   "source": [
    "river = {'nile': 'egypt', 'yellow river': 'china', 'Mississippi':'US'}\n",
    "for river,country in river.items():\n",
    "    print(f\" The {river} runs through {country}\")\n"
   ]
  },
  {
   "cell_type": "code",
   "execution_count": 46,
   "id": "ef5240b8",
   "metadata": {},
   "outputs": [
    {
     "name": "stdout",
     "output_type": "stream",
     "text": [
      "the name of the rivers:\n",
      "nile\n",
      "yellow river\n",
      "Mississippi\n"
     ]
    }
   ],
   "source": [
    "river = {'nile': 'egypt', 'yellow river': 'china', 'Mississippi':'US'}\n",
    "print(\"the name of the rivers:\")\n",
    "for river_name in river.keys():\n",
    "    print(river_name)\n"
   ]
  },
  {
   "cell_type": "code",
   "execution_count": 45,
   "id": "d36c004d",
   "metadata": {},
   "outputs": [
    {
     "name": "stdout",
     "output_type": "stream",
     "text": [
      "the name of the countires:\n",
      "egypt\n",
      "china\n",
      "US\n"
     ]
    }
   ],
   "source": [
    "river = {'nile': 'egypt', 'yellow river': 'china', 'Mississippi':'US'}\n",
    "print(\"the name of the countires:\")\n",
    "for country_name in river.values():\n",
    "    print(country_name)"
   ]
  },
  {
   "cell_type": "markdown",
   "id": "11",
   "metadata": {},
   "source": [
    "## Question 6\n",
    "\n",
    "**Cities:** Make a dictionary called `cities`. Use the names of three cities as keys in your dictionary. Create a dictionary of information about each city and include the country that the city is in, its approximate population, and one fact about that city. The keys for each city’s dictionary should be something like `country`, `population`, and `fact`. Print the name of each city and all of the information you have stored about it."
   ]
  },
  {
   "cell_type": "code",
   "execution_count": 53,
   "id": "12",
   "metadata": {},
   "outputs": [
    {
     "name": "stdout",
     "output_type": "stream",
     "text": [
      "London:\n",
      "Country: United Kingdom\n",
      "Population: 8.9 million\n",
      "Fact: Home of Arsenal!\n",
      "\n",
      "chengdu:\n",
      "Country: China\n",
      "Population: 16.33 million \n",
      "Fact: Home of pandas!\n",
      "\n",
      "New York:\n",
      "Country: United States\n",
      "Population: 8.4 million\n",
      "Fact: concert jungle where dreams are made of\n",
      "\n"
     ]
    }
   ],
   "source": [
    "cities={\"London\": {\n",
    "        'country': 'United Kingdom',\n",
    "        'population':'8.9 million',\n",
    "        'fact': 'Home of Arsenal!'},\n",
    "        \n",
    "        \"chengdu\":{\n",
    "        'country':'China',\n",
    "        'population':'16.33 million ',\n",
    "        'fact': 'Home of pandas!'},\n",
    "\n",
    "        \"New York\": {\n",
    "        \"country\": \"United States\",\n",
    "        \"population\": \"8.4 million\",\n",
    "        \"fact\": \"concert jungle where dreams are made of\"}\n",
    "        }\n",
    "\n",
    "for cities, info in cities.items():\n",
    "    print(f\"{cities}:\")\n",
    "    print(f\"Country: {info['country']}\")\n",
    "    print(f\"Population: {info['population']}\")\n",
    "    print(f\"Fact: {info['fact']}\\n\")"
   ]
  },
  {
   "cell_type": "markdown",
   "id": "13",
   "metadata": {},
   "source": [
    "## Question 7\n",
    "\n",
    "**Rental Car:** Write a program that asks the user what kind of rental car they would like. Print a message about that car, such as “Let me see if I can find you a Subaru.”"
   ]
  },
  {
   "cell_type": "code",
   "execution_count": 54,
   "id": "14",
   "metadata": {},
   "outputs": [
    {
     "name": "stdout",
     "output_type": "stream",
     "text": [
      "Let me see if I can find you a toyota.\n"
     ]
    }
   ],
   "source": [
    "rental_car = input(\"What kind of rental car would you like? \")\n",
    "\n",
    "\n",
    "print(f\"Let me see if I can find you a {rental_car}.\")\n"
   ]
  },
  {
   "cell_type": "markdown",
   "id": "15",
   "metadata": {},
   "source": [
    "## Question 8\n",
    "\n",
    "**Restaurant Seating:** Write a program that asks the user how many people are in their dinner group. If the answer is more than eight, print a message saying they’ll have to wait for a table. Otherwise, report that their table is ready."
   ]
  },
  {
   "cell_type": "code",
   "execution_count": 57,
   "id": "16",
   "metadata": {},
   "outputs": [
    {
     "name": "stdout",
     "output_type": "stream",
     "text": [
      "Sorry you need to wait for a table.\n"
     ]
    }
   ],
   "source": [
    "restaurant_seating = input(\"How many people are in your dinner group? \")\n",
    "restaurant_seating = int(restaurant_seating)\n",
    "if restaurant_seating > 10:\n",
    "    print (\"Sorry you need to wait for a table.\")\n",
    "else: \n",
    "    print(\"Your table is ready.\")"
   ]
  },
  {
   "cell_type": "markdown",
   "id": "17",
   "metadata": {},
   "source": [
    "## Question 9\n",
    "\n",
    "**Multiples of Ten:** Ask the user for a number, and then report whether the number is a multiple of 10 or not."
   ]
  },
  {
   "cell_type": "code",
   "execution_count": 63,
   "id": "18",
   "metadata": {},
   "outputs": [
    {
     "name": "stdout",
     "output_type": "stream",
     "text": [
      "1000 is a multiple of 10.\n"
     ]
    }
   ],
   "source": [
    "numbers=input(\"give me a number and I will tell you if it is a mutiple of 10 or not:\")\n",
    "numbers = int(numbers)\n",
    "\n",
    "if numbers % 10 == 0:\n",
    "    print(f\"{numbers} is a multiple of 10.\")\n",
    "else:\n",
    "    print(f\"{numbers} is not a multiple of 10.\")"
   ]
  },
  {
   "cell_type": "markdown",
   "id": "19",
   "metadata": {},
   "source": [
    "## Question 10\n",
    "\n",
    "**Pizza Toppings:** Write a loop that prompts the user to enter a series of pizza toppings until they enter a 'quit' value. As they enter each topping, print a message saying you’ll add that topping to their pizza."
   ]
  },
  {
   "cell_type": "code",
   "execution_count": 68,
   "id": "20",
   "metadata": {},
   "outputs": [
    {
     "name": "stdout",
     "output_type": "stream",
     "text": [
      "you will add meatball on the pizza\n",
      "you will add mushroom on the pizza\n",
      "you will add olive on the pizza\n"
     ]
    }
   ],
   "source": [
    "pizza_toppings = []\n",
    "while True:\n",
    "    topping = input(\"Add this topping on the pizza: \")\n",
    "    if topping == \"quit\":\n",
    "        break\n",
    "    else:\n",
    "        print(f\"you will add {topping} on the pizza\")"
   ]
  },
  {
   "cell_type": "markdown",
   "id": "21",
   "metadata": {},
   "source": [
    "## Question 11\n",
    "\n",
    "**Message:** Write a function called `display_message()` that prints one sentence telling everyone what you are learning about in this chapter. Call the function, and make sure the message displays correctly."
   ]
  },
  {
   "cell_type": "code",
   "execution_count": 70,
   "id": "22",
   "metadata": {},
   "outputs": [
    {
     "name": "stdout",
     "output_type": "stream",
     "text": [
      "We are learning about pizza toppings and different fucntions in this chapter\n"
     ]
    }
   ],
   "source": [
    "def display_message():\n",
    "    print(\"We are learning about pizza toppings and different fucntions in this chapter\")\n",
    "\n",
    "display_message()"
   ]
  },
  {
   "cell_type": "markdown",
   "id": "23",
   "metadata": {},
   "source": [
    "## Question 12\n",
    "\n",
    "**Favorite Book:** Write a function called `favorite_book()` that accepts one parameter, title. The function should print a message, such as `One of my favorite books is Alice in Wonderland`. Call the function, making sure to include a book title as an argument in the function call."
   ]
  },
  {
   "cell_type": "code",
   "execution_count": 73,
   "id": "24",
   "metadata": {},
   "outputs": [
    {
     "name": "stdout",
     "output_type": "stream",
     "text": [
      "One of my favorite books is Do Androids Dream of Electric Sheep?\n"
     ]
    }
   ],
   "source": [
    "def favorite_book(title):\n",
    "    print(f\"One of my favorite books is {title}\")\n",
    "    \n",
    "favorite_book(\"Do Androids Dream of Electric Sheep?\")\n"
   ]
  },
  {
   "cell_type": "markdown",
   "id": "25",
   "metadata": {},
   "source": [
    "## Question 13\n",
    "\n",
    "**T-Shirt:** Write a function called `make_shirt()` that accepts a size and the text of a message that should be printed on the shirt. The function should print a sentence summarizing the size of the shirt and the message printed on it.\n",
    "\n",
    "Call the function once using positional arguments to make a shirt. Call the function a second time using keyword arguments."
   ]
  },
  {
   "cell_type": "code",
   "execution_count": 80,
   "id": "26",
   "metadata": {},
   "outputs": [
    {
     "name": "stdout",
     "output_type": "stream",
     "text": [
      "the size of the shirt is medium\n",
      "the text on the shirt is Hello world\n",
      "\n",
      "the size of the shirt is small\n",
      "the text on the shirt is Hello world\n"
     ]
    }
   ],
   "source": [
    "def make_shirt(size, text):\n",
    "    print(f\"the size of the shirt is {size}\");\n",
    "    print(f\"the text on the shirt is {text}\")\n",
    "\n",
    "make_shirt(\"medium\",\"Hello world\\n\")\n",
    "\n",
    "make_shirt(size='small', text='Hello world')"
   ]
  },
  {
   "cell_type": "markdown",
   "id": "27",
   "metadata": {},
   "source": [
    "## Question 14\n",
    "\n",
    "**Large Shirts:** Modify the `make_shirt()` function so that shirts are large by default with a message that reads _I love Python_. Make a large shirt and a medium shirt with the default message, and a shirt of any size with a different message."
   ]
  },
  {
   "cell_type": "code",
   "execution_count": 85,
   "id": "28",
   "metadata": {},
   "outputs": [
    {
     "name": "stdout",
     "output_type": "stream",
     "text": [
      "the size of the shirt is large\n",
      "the text on the shirt is I Love Python\n",
      "the size of the shirt is medium\n",
      "the text on the shirt is I Love Python\n",
      "the size of the shirt is small\n",
      "the text on the shirt is Do I really love Python?\n"
     ]
    }
   ],
   "source": [
    "def make_shirt(size='large', text='I Love Python'):\n",
    "    print(f\"the size of the shirt is {size}\");\n",
    "    print(f\"the text on the shirt is {text}\")\n",
    "\n",
    "make_shirt()\n",
    "make_shirt(\"medium\")\n",
    "make_shirt(\"small\",\"Do I really love Python?\")"
   ]
  },
  {
   "cell_type": "markdown",
   "id": "29",
   "metadata": {},
   "source": [
    "## Question 15\n",
    "\n",
    "**Cities:** Write a function called `describe_city()` that accepts the name of a city and its country. The function should print a simple sentence, such as `Reykjavik is in Iceland`. Give the parameter for the country a default value. Call your function for three different cities, at least one of which is not in the default country."
   ]
  },
  {
   "cell_type": "code",
   "execution_count": 91,
   "id": "30",
   "metadata": {},
   "outputs": [
    {
     "name": "stdout",
     "output_type": "stream",
     "text": [
      " London is in UK\n",
      " Liverpool is in UK\n",
      " New York is in USA\n"
     ]
    }
   ],
   "source": [
    "def describe_city(city,country='UK'):\n",
    "    print(f\" {city} is in {country}\")\n",
    "\n",
    "describe_city(\"London\")\n",
    "describe_city(\"Liverpool\")\n",
    "describe_city(\"New York\",\"USA\")"
   ]
  },
  {
   "cell_type": "markdown",
   "id": "31",
   "metadata": {},
   "source": [
    "## Question 16\n",
    "\n",
    "**City Names:** Write a function called `city_country()` that takes in the name of a city and its country. The function should return a string formatted like this:\n",
    "\n",
    "```text\n",
    "Santiago, Chile\n",
    "```\n",
    "\n",
    "Call your function with at least three city-country pairs, and print the values that are returned."
   ]
  },
  {
   "cell_type": "code",
   "execution_count": 98,
   "id": "32",
   "metadata": {},
   "outputs": [
    {
     "name": "stdout",
     "output_type": "stream",
     "text": [
      "London, UK\n",
      "Liverpool, UK\n",
      "Dublin, Ireland\n"
     ]
    }
   ],
   "source": [
    "def city_country(city,country):\n",
    "    return f\"{city}, {country}\"\n",
    "\n",
    "print(city_country('London','UK'))\n",
    "print(city_country('Liverpool','UK'))\n",
    "print(city_country('Dublin','Ireland'))"
   ]
  },
  {
   "cell_type": "markdown",
   "id": "33",
   "metadata": {},
   "source": [
    "## Question 17\n",
    "\n",
    "**Album:** Write a function called `make_album()` that builds a dictionary describing a music album. The function should take in an artist name and an album title, and it should return a dictionary containing these two pieces of information. Use the function to make three dictionaries representing different albums. Print each return value to show that the dictionaries are storing the album information correctly.\n",
    "\n",
    "Use None to add an optional parameter to make_album() that allows you to store the number of songs on an album. If the calling line includes a value for the number of songs, add that value to the album’s dictionary. Make at least one new function call that includes the number of songs on an album."
   ]
  },
  {
   "cell_type": "code",
   "execution_count": 103,
   "id": "34",
   "metadata": {},
   "outputs": [
    {
     "name": "stdout",
     "output_type": "stream",
     "text": [
      "{'artist': 'Eagles', 'album_title': 'Hotel California'}\n",
      "{'artist': 'AC/DC', 'album_title': 'High way to hell'}\n",
      "{'artist': 'metallica', 'album_title': 'Master of Puppets', 'songs': 8}\n"
     ]
    }
   ],
   "source": [
    "def make_album(artist, album_title,numbers=None):\n",
    "    album={\"artist\":artist, \"album_title\":album_title}\n",
    "    if numbers:\n",
    "        album['songs']=numbers\n",
    "    return album\n",
    "print(make_album(\"Eagles\",\"Hotel California\"))\n",
    "print(make_album(\"AC/DC\",\"High way to hell\"))\n",
    "print(make_album(\"metallica\",\"Master of Puppets\",8))"
   ]
  },
  {
   "cell_type": "markdown",
   "id": "35",
   "metadata": {},
   "source": [
    "## Question 18\n",
    "\n",
    "**User Albums:** Start with your program from Question 17. Write a `while` loop that allows users to enter an album’s artist and title. Once you have that information, call `make_album()` with the user’s input and print the dictionary that’s created. Be sure to include a quit value in the `while` loop."
   ]
  },
  {
   "cell_type": "code",
   "execution_count": 110,
   "id": "36",
   "metadata": {},
   "outputs": [
    {
     "name": "stdout",
     "output_type": "stream",
     "text": [
      "{'artist': 'Eagles', 'album_title': 'Hotel Californa'}\n"
     ]
    }
   ],
   "source": [
    "def make_album(artist, album_title,numbers=None):\n",
    "    album={\"artist\":artist, \"album_title\":album_title}\n",
    "    return album\n",
    "\n",
    "while True:\n",
    "    artist = input(\" the Artist's name: \")\n",
    "    if artist == 'quit':\n",
    "        break\n",
    "    album_title= input(\"album title: \")\n",
    "    if album_title == 'quit':\n",
    "        break\n",
    "       \n",
    "    album = make_album(artist, album_title)\n",
    "    print(album)\n"
   ]
  },
  {
   "cell_type": "markdown",
   "id": "37",
   "metadata": {},
   "source": [
    "## Question 19\n",
    "\n",
    "**Messages:** Make a list containing a series of short text messages. Pass the list to a function called `show_messages()`, which prints each text message."
   ]
  },
  {
   "cell_type": "code",
   "execution_count": 119,
   "id": "38",
   "metadata": {},
   "outputs": [
    {
     "name": "stdout",
     "output_type": "stream",
     "text": [
      "what is the message?\n",
      "what's up?\n",
      "how is it going?\n"
     ]
    }
   ],
   "source": [
    "def show_messages(messages):\n",
    "    for msg in messages:\n",
    "        print(msg)\n",
    "messages = [\"what is the message?\", \"what's up?\", \"how is it going?\"]\n",
    "\n",
    "show_messages(messages)\n"
   ]
  },
  {
   "cell_type": "markdown",
   "id": "39",
   "metadata": {},
   "source": [
    "## Question 20\n",
    "\n",
    "**Sending Messages:** Start with a copy of your program from Question 19. Write a function called `send_messages()` that prints each text message and moves each message to a new list called `sent_messages` as it’s printed. After calling the function, print both of your lists to make sure the messages were moved correctly."
   ]
  },
  {
   "cell_type": "code",
   "execution_count": 128,
   "id": "40",
   "metadata": {},
   "outputs": [
    {
     "name": "stdout",
     "output_type": "stream",
     "text": [
      "Sending message: how is it going?\n",
      "Sending message: what's up?\n",
      "Sending message: what is the message?\n",
      "Unsent messages: []\n",
      "Sent messages: ['how is it going?', \"what's up?\", 'what is the message?']\n"
     ]
    }
   ],
   "source": [
    "\n",
    "messages = [\"what is the message?\", \"what's up?\", \"how is it going?\"]\n",
    "sent_messages = []\n",
    "\n",
    "def send_messages(unsent_messages, sent_messages):\n",
    "    while unsent_messages:\n",
    "        current_message = unsent_messages.pop()\n",
    "        print(f\"Sending message: {current_message}\") \n",
    "        sent_messages.append(current_message)\n",
    "\n",
    "\n",
    "send_messages(messages, sent_messages)\n",
    "\n",
    "\n",
    "print(\"Unsent messages:\", messages)  \n",
    "print(\"Sent messages:\", sent_messages)\n",
    "\n"
   ]
  },
  {
   "cell_type": "markdown",
   "id": "41",
   "metadata": {},
   "source": [
    "## Question 21\n",
    "\n",
    "**Learning Python:** Open a blank file in your text editor and write a few lines summarizing what you’ve learned about Python so far. Start each line with the phrase _In Python you can. . .._ Save the file as _learning_python.txt_ in the same directory as your exercises from this chapter. Write a program that reads the file and prints what you wrote three times. Print the contents once by reading in the entire file, once by looping over the file object, and once by storing the lines in a list and then working with them outside the _with_ block."
   ]
  },
  {
   "cell_type": "code",
   "execution_count": 2,
   "id": "42",
   "metadata": {},
   "outputs": [
    {
     "ename": "SyntaxError",
     "evalue": "(unicode error) 'unicodeescape' codec can't decode bytes in position 2-3: truncated \\UXXXXXXXX escape (3669478484.py, line 1)",
     "output_type": "error",
     "traceback": [
      "\u001b[1;36m  Input \u001b[1;32mIn [2]\u001b[1;36m\u001b[0m\n\u001b[1;33m    with open(\"C:\\UTK_work\\Github_repositary\\watergeo\\docs\\examples\\learning_python .txt\") as file_object:\u001b[0m\n\u001b[1;37m                                                                                         ^\u001b[0m\n\u001b[1;31mSyntaxError\u001b[0m\u001b[1;31m:\u001b[0m (unicode error) 'unicodeescape' codec can't decode bytes in position 2-3: truncated \\UXXXXXXXX escape\n"
     ]
    }
   ],
   "source": [
    "with open(\"examples/learning_python.txt\") as file_object:\n",
    "    contents = file_object.read()\n",
    "print(contents)"
   ]
  },
  {
   "cell_type": "markdown",
   "id": "43",
   "metadata": {},
   "source": [
    "## Question 22\n",
    "\n",
    "**Learning C:** You can use the replace() method to replace any word in a string with a different word. Here’s a quick example showing how to replace 'dog' with 'cat' in a sentence:\n",
    "\n",
    "```text\n",
    "message = \"I really like dogs.\"\n",
    "message.replace('dog', 'cat')\n",
    "'I really like cats.'\n",
    "```\n",
    "\n",
    "Read in each line from the file you just created, _learning_python.txt_, and replace the word _Python_ with the name of another language, such as _C_. Print each modified line to the screen."
   ]
  },
  {
   "cell_type": "code",
   "execution_count": null,
   "id": "44",
   "metadata": {},
   "outputs": [],
   "source": []
  },
  {
   "cell_type": "markdown",
   "id": "45",
   "metadata": {},
   "source": [
    "## Question 23\n",
    "\n",
    "**Guest:** Write a program that prompts the user for their name. When they respond, write their name to a file called guest.txt."
   ]
  },
  {
   "cell_type": "code",
   "execution_count": null,
   "id": "46",
   "metadata": {},
   "outputs": [],
   "source": []
  },
  {
   "cell_type": "markdown",
   "id": "47",
   "metadata": {},
   "source": [
    "## Question 24\n",
    "\n",
    "**Guest Book:** Write a while loop that prompts users for their name. When they enter their name, print a greeting to the screen and add a line recording their visit in a file called guest_book.txt. Make sure each entry appears on a new line in the file."
   ]
  },
  {
   "cell_type": "code",
   "execution_count": null,
   "id": "48",
   "metadata": {},
   "outputs": [],
   "source": []
  },
  {
   "cell_type": "markdown",
   "id": "49",
   "metadata": {},
   "source": [
    "## Question 25\n",
    "\n",
    "**Programming Poll:** Write a while loop that asks people why they like programming. Each time someone enters a reason, add their reason to a file that stores all the responses."
   ]
  },
  {
   "cell_type": "code",
   "execution_count": null,
   "id": "50",
   "metadata": {},
   "outputs": [],
   "source": []
  },
  {
   "cell_type": "markdown",
   "id": "51",
   "metadata": {},
   "source": [
    "## Question 26\n",
    "\n",
    "**Addition:** One common problem when prompting for numerical input occurs when people provide text instead of numbers. When you try to convert the input to an int, you’ll get a ValueError. Write a program that prompts for two numbers. Add them together and print the result. Catch the ValueError if either input value is not a number, and print a friendly error message. Test your program by entering two numbers and then by entering some text instead of a number."
   ]
  },
  {
   "cell_type": "code",
   "execution_count": null,
   "id": "52",
   "metadata": {},
   "outputs": [],
   "source": []
  },
  {
   "cell_type": "markdown",
   "id": "53",
   "metadata": {},
   "source": [
    "## Question 27\n",
    "\n",
    "**Addition Calculator:** Wrap your code from Question 26 in a while loop so the user can continue entering numbers even if they make a mistake and enter text instead of a number."
   ]
  },
  {
   "cell_type": "code",
   "execution_count": null,
   "id": "54",
   "metadata": {},
   "outputs": [],
   "source": []
  },
  {
   "cell_type": "markdown",
   "id": "55",
   "metadata": {},
   "source": [
    "## Question 28\n",
    "\n",
    "**Cats and Dogs:** Make two files, _cats.txt_ and _dogs.txt_. Store at least three names of cats in the first file and three names of dogs in the second file. Write a program that tries to read these files and print the contents of the file to the screen. Wrap your code in a `try-except` block to catch the `FileNotFound` error, and print a friendly message if a file is missing. Move one of the files to a different location on your system, and make sure the code in the `except` block executes properly."
   ]
  },
  {
   "cell_type": "code",
   "execution_count": null,
   "id": "56",
   "metadata": {},
   "outputs": [],
   "source": []
  },
  {
   "cell_type": "markdown",
   "id": "57",
   "metadata": {},
   "source": [
    "## Question 29\n",
    "\n",
    "**Silent Cats and Dogs:** Modify your except block in Question 28 to fail silently if either file is missing."
   ]
  },
  {
   "cell_type": "code",
   "execution_count": null,
   "id": "58",
   "metadata": {},
   "outputs": [],
   "source": []
  },
  {
   "cell_type": "markdown",
   "id": "59",
   "metadata": {},
   "source": [
    "## Question 30\n",
    "\n",
    "**Common Words:** Visit Project Gutenberg (<https://gutenberg.org/>) and find a few texts you’d like to analyze. Download the text files for these works, or copy the raw text from your browser into a text file on your computer. You can use the `count()` method to find out how many times a word or phrase appears in a string. For example, the following code counts the number of times 'row' appears in a string:"
   ]
  },
  {
   "cell_type": "code",
   "execution_count": null,
   "id": "60",
   "metadata": {},
   "outputs": [],
   "source": [
    "line = \"Row, row, row your boat\"\n",
    "line.count(\"row\")"
   ]
  },
  {
   "cell_type": "code",
   "execution_count": null,
   "id": "61",
   "metadata": {},
   "outputs": [],
   "source": [
    "line.lower().count(\"row\")"
   ]
  },
  {
   "cell_type": "markdown",
   "id": "62",
   "metadata": {},
   "source": [
    "Notice that converting the string to lowercase using lower() catches all appearances of the word you’re looking for, regardless of how it’s formatted.\n",
    "\n",
    "Write a program that reads the files you found at Project Gutenberg and determines how many times the word `the` appears in each text. This will be an approximation because it will also count words such as `then` and `there`. Try counting `the`, with a space in the string, and see how much lower your count is."
   ]
  },
  {
   "cell_type": "code",
   "execution_count": null,
   "id": "63",
   "metadata": {},
   "outputs": [],
   "source": []
  }
 ],
 "metadata": {
  "kernelspec": {
   "display_name": "Python 3",
   "language": "python",
   "name": "python3"
  },
  "language_info": {
   "codemirror_mode": {
    "name": "ipython",
    "version": 3
   },
   "file_extension": ".py",
   "mimetype": "text/x-python",
   "name": "python",
   "nbconvert_exporter": "python",
   "pygments_lexer": "ipython3",
   "version": "3.10.13"
  }
 },
 "nbformat": 4,
 "nbformat_minor": 5
}
